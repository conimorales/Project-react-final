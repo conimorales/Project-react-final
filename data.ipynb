{
 "cells": [
  {
   "attachments": {},
   "cell_type": "markdown",
   "metadata": {},
   "source": [
    "LIBRERÍAS UTILIZADAS\n",
    "\n",
    "react-icons/gi\n",
    "\n",
    "react-icons/ai\n",
    "react-icons/ri"
   ]
  }
 ],
 "metadata": {
  "kernelspec": {
   "display_name": "Python 3",
   "language": "python",
   "name": "python3"
  },
  "language_info": {
   "name": "python",
   "version": "3.10.10 (tags/v3.10.10:aad5f6a, Feb  7 2023, 17:20:36) [MSC v.1929 64 bit (AMD64)]"
  },
  "orig_nbformat": 4,
  "vscode": {
   "interpreter": {
    "hash": "97ed0b760e739aa1f0d98476dd5300c1b5c97c38211511db4d8080d8da430568"
   }
  }
 },
 "nbformat": 4,
 "nbformat_minor": 2
}
